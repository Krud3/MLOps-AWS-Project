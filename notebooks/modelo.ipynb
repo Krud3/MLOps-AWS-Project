{
 "cells": [
  {
   "cell_type": "raw",
   "id": "b533b56e-a01e-470d-9f9b-88ab21d56cce",
   "metadata": {},
   "source": [
    "Universidad del valle\n",
    "Inteligencia Artificial 2024-2\n",
    "Profesor: Oscar Bedoya\n",
    "Estudiantes: Juan Camilo Narvaez Tascón - 202140112,\n",
    "             Julián Ernesto Puyo Mora - 202226905,\n",
    "             Cristian David Pachecho Torres - 20222743,\n",
    "             Juan Sebastián Molina Cuéllar - 202224491"
   ]
  },
  {
   "cell_type": "code",
   "execution_count": 1,
   "id": "3f7d228f-bbde-4991-974a-88357e2d6f0f",
   "metadata": {},
   "outputs": [],
   "source": [
    "import numpy as np\n",
    "import pandas as pd\n",
    "import sklearn\n",
    "import warnings"
   ]
  },
  {
   "cell_type": "code",
   "execution_count": 2,
   "id": "b76b50c4-6826-48cf-ab8e-94277fac301a",
   "metadata": {},
   "outputs": [],
   "source": [
    "datos = pd.read_csv('./loan_data.csv')\n",
    "\n",
    "datos.columns = ['person_age', 'person_gender', 'person_education', 'person_income', 'person_emp_exp', 'person_home_ownership', \n",
    "                 'loan_amnt', 'loan_intent', 'loan_int_rate', 'loan_percent_income', 'cb_person_cred_hist_length', 'credit_score',\n",
    "                 'previous_loan_defaults_on_file', 'loan_status']"
   ]
  },
  {
   "cell_type": "code",
   "execution_count": 3,
   "id": "059303eb-7250-4795-a340-5087af0b401f",
   "metadata": {},
   "outputs": [
    {
     "name": "stdout",
     "output_type": "stream",
     "text": [
      "<class 'pandas.core.frame.DataFrame'>\n",
      "RangeIndex: 45000 entries, 0 to 44999\n",
      "Data columns (total 14 columns):\n",
      " #   Column                          Non-Null Count  Dtype  \n",
      "---  ------                          --------------  -----  \n",
      " 0   person_age                      45000 non-null  float64\n",
      " 1   person_gender                   45000 non-null  object \n",
      " 2   person_education                45000 non-null  object \n",
      " 3   person_income                   45000 non-null  float64\n",
      " 4   person_emp_exp                  45000 non-null  int64  \n",
      " 5   person_home_ownership           45000 non-null  object \n",
      " 6   loan_amnt                       45000 non-null  float64\n",
      " 7   loan_intent                     45000 non-null  object \n",
      " 8   loan_int_rate                   45000 non-null  float64\n",
      " 9   loan_percent_income             45000 non-null  float64\n",
      " 10  cb_person_cred_hist_length      45000 non-null  float64\n",
      " 11  credit_score                    45000 non-null  int64  \n",
      " 12  previous_loan_defaults_on_file  45000 non-null  object \n",
      " 13  loan_status                     45000 non-null  int64  \n",
      "dtypes: float64(6), int64(3), object(5)\n",
      "memory usage: 4.8+ MB\n"
     ]
    }
   ],
   "source": [
    "datos.info()"
   ]
  },
  {
   "cell_type": "code",
   "execution_count": 7,
   "id": "15b11fda-85ca-4cc3-a215-c73c38a51307",
   "metadata": {},
   "outputs": [
    {
     "data": {
      "text/html": [
       "<div>\n",
       "<style scoped>\n",
       "    .dataframe tbody tr th:only-of-type {\n",
       "        vertical-align: middle;\n",
       "    }\n",
       "\n",
       "    .dataframe tbody tr th {\n",
       "        vertical-align: top;\n",
       "    }\n",
       "\n",
       "    .dataframe thead th {\n",
       "        text-align: right;\n",
       "    }\n",
       "</style>\n",
       "<table border=\"1\" class=\"dataframe\">\n",
       "  <thead>\n",
       "    <tr style=\"text-align: right;\">\n",
       "      <th></th>\n",
       "      <th>person_gender</th>\n",
       "      <th>person_education</th>\n",
       "      <th>person_home_ownership</th>\n",
       "      <th>loan_intent</th>\n",
       "      <th>previous_loan_defaults_on_file</th>\n",
       "    </tr>\n",
       "  </thead>\n",
       "  <tbody>\n",
       "    <tr>\n",
       "      <th>count</th>\n",
       "      <td>45000</td>\n",
       "      <td>45000</td>\n",
       "      <td>45000</td>\n",
       "      <td>45000</td>\n",
       "      <td>45000</td>\n",
       "    </tr>\n",
       "    <tr>\n",
       "      <th>unique</th>\n",
       "      <td>2</td>\n",
       "      <td>5</td>\n",
       "      <td>4</td>\n",
       "      <td>6</td>\n",
       "      <td>2</td>\n",
       "    </tr>\n",
       "    <tr>\n",
       "      <th>top</th>\n",
       "      <td>male</td>\n",
       "      <td>Bachelor</td>\n",
       "      <td>RENT</td>\n",
       "      <td>EDUCATION</td>\n",
       "      <td>Yes</td>\n",
       "    </tr>\n",
       "    <tr>\n",
       "      <th>freq</th>\n",
       "      <td>24841</td>\n",
       "      <td>13399</td>\n",
       "      <td>23443</td>\n",
       "      <td>9153</td>\n",
       "      <td>22858</td>\n",
       "    </tr>\n",
       "  </tbody>\n",
       "</table>\n",
       "</div>"
      ],
      "text/plain": [
       "       person_gender person_education person_home_ownership loan_intent  \\\n",
       "count          45000            45000                 45000       45000   \n",
       "unique             2                5                     4           6   \n",
       "top             male         Bachelor                  RENT   EDUCATION   \n",
       "freq           24841            13399                 23443        9153   \n",
       "\n",
       "       previous_loan_defaults_on_file  \n",
       "count                           45000  \n",
       "unique                              2  \n",
       "top                               Yes  \n",
       "freq                            22858  "
      ]
     },
     "execution_count": 7,
     "metadata": {},
     "output_type": "execute_result"
    }
   ],
   "source": [
    "# Variables categóricas \n",
    "\n",
    "datos.select_dtypes(include=['object']).describe()"
   ]
  },
  {
   "cell_type": "code",
   "execution_count": 10,
   "id": "0dedd9ae-07a1-4c89-8122-030061ccc1bf",
   "metadata": {},
   "outputs": [
    {
     "data": {
      "text/html": [
       "<div>\n",
       "<style scoped>\n",
       "    .dataframe tbody tr th:only-of-type {\n",
       "        vertical-align: middle;\n",
       "    }\n",
       "\n",
       "    .dataframe tbody tr th {\n",
       "        vertical-align: top;\n",
       "    }\n",
       "\n",
       "    .dataframe thead th {\n",
       "        text-align: right;\n",
       "    }\n",
       "</style>\n",
       "<table border=\"1\" class=\"dataframe\">\n",
       "  <thead>\n",
       "    <tr style=\"text-align: right;\">\n",
       "      <th></th>\n",
       "      <th>person_emp_exp</th>\n",
       "      <th>credit_score</th>\n",
       "      <th>loan_status</th>\n",
       "    </tr>\n",
       "  </thead>\n",
       "  <tbody>\n",
       "    <tr>\n",
       "      <th>count</th>\n",
       "      <td>45000.000000</td>\n",
       "      <td>45000.000000</td>\n",
       "      <td>45000.000000</td>\n",
       "    </tr>\n",
       "    <tr>\n",
       "      <th>mean</th>\n",
       "      <td>5.410333</td>\n",
       "      <td>632.608756</td>\n",
       "      <td>0.222222</td>\n",
       "    </tr>\n",
       "    <tr>\n",
       "      <th>std</th>\n",
       "      <td>6.063532</td>\n",
       "      <td>50.435865</td>\n",
       "      <td>0.415744</td>\n",
       "    </tr>\n",
       "    <tr>\n",
       "      <th>min</th>\n",
       "      <td>0.000000</td>\n",
       "      <td>390.000000</td>\n",
       "      <td>0.000000</td>\n",
       "    </tr>\n",
       "    <tr>\n",
       "      <th>25%</th>\n",
       "      <td>1.000000</td>\n",
       "      <td>601.000000</td>\n",
       "      <td>0.000000</td>\n",
       "    </tr>\n",
       "    <tr>\n",
       "      <th>50%</th>\n",
       "      <td>4.000000</td>\n",
       "      <td>640.000000</td>\n",
       "      <td>0.000000</td>\n",
       "    </tr>\n",
       "    <tr>\n",
       "      <th>75%</th>\n",
       "      <td>8.000000</td>\n",
       "      <td>670.000000</td>\n",
       "      <td>0.000000</td>\n",
       "    </tr>\n",
       "    <tr>\n",
       "      <th>max</th>\n",
       "      <td>125.000000</td>\n",
       "      <td>850.000000</td>\n",
       "      <td>1.000000</td>\n",
       "    </tr>\n",
       "  </tbody>\n",
       "</table>\n",
       "</div>"
      ],
      "text/plain": [
       "       person_emp_exp  credit_score   loan_status\n",
       "count    45000.000000  45000.000000  45000.000000\n",
       "mean         5.410333    632.608756      0.222222\n",
       "std          6.063532     50.435865      0.415744\n",
       "min          0.000000    390.000000      0.000000\n",
       "25%          1.000000    601.000000      0.000000\n",
       "50%          4.000000    640.000000      0.000000\n",
       "75%          8.000000    670.000000      0.000000\n",
       "max        125.000000    850.000000      1.000000"
      ]
     },
     "execution_count": 10,
     "metadata": {},
     "output_type": "execute_result"
    }
   ],
   "source": [
    "# Variables cuantitativas int64\n",
    "\n",
    "datos.select_dtypes(include=['int64']).describe()"
   ]
  },
  {
   "cell_type": "code",
   "execution_count": 11,
   "id": "74933a8d-c75e-460d-9c10-aaee9c8cfaf1",
   "metadata": {},
   "outputs": [
    {
     "data": {
      "text/html": [
       "<div>\n",
       "<style scoped>\n",
       "    .dataframe tbody tr th:only-of-type {\n",
       "        vertical-align: middle;\n",
       "    }\n",
       "\n",
       "    .dataframe tbody tr th {\n",
       "        vertical-align: top;\n",
       "    }\n",
       "\n",
       "    .dataframe thead th {\n",
       "        text-align: right;\n",
       "    }\n",
       "</style>\n",
       "<table border=\"1\" class=\"dataframe\">\n",
       "  <thead>\n",
       "    <tr style=\"text-align: right;\">\n",
       "      <th></th>\n",
       "      <th>person_age</th>\n",
       "      <th>person_income</th>\n",
       "      <th>loan_amnt</th>\n",
       "      <th>loan_int_rate</th>\n",
       "      <th>loan_percent_income</th>\n",
       "      <th>cb_person_cred_hist_length</th>\n",
       "    </tr>\n",
       "  </thead>\n",
       "  <tbody>\n",
       "    <tr>\n",
       "      <th>count</th>\n",
       "      <td>45000.000000</td>\n",
       "      <td>4.500000e+04</td>\n",
       "      <td>45000.000000</td>\n",
       "      <td>45000.000000</td>\n",
       "      <td>45000.000000</td>\n",
       "      <td>45000.000000</td>\n",
       "    </tr>\n",
       "    <tr>\n",
       "      <th>mean</th>\n",
       "      <td>27.764178</td>\n",
       "      <td>8.031905e+04</td>\n",
       "      <td>9583.157556</td>\n",
       "      <td>11.006606</td>\n",
       "      <td>0.139725</td>\n",
       "      <td>5.867489</td>\n",
       "    </tr>\n",
       "    <tr>\n",
       "      <th>std</th>\n",
       "      <td>6.045108</td>\n",
       "      <td>8.042250e+04</td>\n",
       "      <td>6314.886691</td>\n",
       "      <td>2.978808</td>\n",
       "      <td>0.087212</td>\n",
       "      <td>3.879702</td>\n",
       "    </tr>\n",
       "    <tr>\n",
       "      <th>min</th>\n",
       "      <td>20.000000</td>\n",
       "      <td>8.000000e+03</td>\n",
       "      <td>500.000000</td>\n",
       "      <td>5.420000</td>\n",
       "      <td>0.000000</td>\n",
       "      <td>2.000000</td>\n",
       "    </tr>\n",
       "    <tr>\n",
       "      <th>25%</th>\n",
       "      <td>24.000000</td>\n",
       "      <td>4.720400e+04</td>\n",
       "      <td>5000.000000</td>\n",
       "      <td>8.590000</td>\n",
       "      <td>0.070000</td>\n",
       "      <td>3.000000</td>\n",
       "    </tr>\n",
       "    <tr>\n",
       "      <th>50%</th>\n",
       "      <td>26.000000</td>\n",
       "      <td>6.704800e+04</td>\n",
       "      <td>8000.000000</td>\n",
       "      <td>11.010000</td>\n",
       "      <td>0.120000</td>\n",
       "      <td>4.000000</td>\n",
       "    </tr>\n",
       "    <tr>\n",
       "      <th>75%</th>\n",
       "      <td>30.000000</td>\n",
       "      <td>9.578925e+04</td>\n",
       "      <td>12237.250000</td>\n",
       "      <td>12.990000</td>\n",
       "      <td>0.190000</td>\n",
       "      <td>8.000000</td>\n",
       "    </tr>\n",
       "    <tr>\n",
       "      <th>max</th>\n",
       "      <td>144.000000</td>\n",
       "      <td>7.200766e+06</td>\n",
       "      <td>35000.000000</td>\n",
       "      <td>20.000000</td>\n",
       "      <td>0.660000</td>\n",
       "      <td>30.000000</td>\n",
       "    </tr>\n",
       "  </tbody>\n",
       "</table>\n",
       "</div>"
      ],
      "text/plain": [
       "         person_age  person_income     loan_amnt  loan_int_rate  \\\n",
       "count  45000.000000   4.500000e+04  45000.000000   45000.000000   \n",
       "mean      27.764178   8.031905e+04   9583.157556      11.006606   \n",
       "std        6.045108   8.042250e+04   6314.886691       2.978808   \n",
       "min       20.000000   8.000000e+03    500.000000       5.420000   \n",
       "25%       24.000000   4.720400e+04   5000.000000       8.590000   \n",
       "50%       26.000000   6.704800e+04   8000.000000      11.010000   \n",
       "75%       30.000000   9.578925e+04  12237.250000      12.990000   \n",
       "max      144.000000   7.200766e+06  35000.000000      20.000000   \n",
       "\n",
       "       loan_percent_income  cb_person_cred_hist_length  \n",
       "count         45000.000000                45000.000000  \n",
       "mean              0.139725                    5.867489  \n",
       "std               0.087212                    3.879702  \n",
       "min               0.000000                    2.000000  \n",
       "25%               0.070000                    3.000000  \n",
       "50%               0.120000                    4.000000  \n",
       "75%               0.190000                    8.000000  \n",
       "max               0.660000                   30.000000  "
      ]
     },
     "execution_count": 11,
     "metadata": {},
     "output_type": "execute_result"
    }
   ],
   "source": [
    "# Variables cuantitativas float64\n",
    "\n",
    "datos.select_dtypes(include=['float64']).describe()"
   ]
  },
  {
   "cell_type": "code",
   "execution_count": 12,
   "id": "2569c4a9-d559-4c4d-8d12-8ed17542d625",
   "metadata": {},
   "outputs": [
    {
     "name": "stdout",
     "output_type": "stream",
     "text": [
      "45000 36000 9000\n"
     ]
    }
   ],
   "source": [
    "from sklearn.model_selection import train_test_split\n",
    "N = len(datos)\n",
    "cTrain = int(N*0.8)\n",
    "cTest = N - cTrain\n",
    "print(N,cTrain,cTest)\n",
    "train_data, test_data = sklearn.model_selection.train_test_split(datos, train_size=cTrain, test_size=cTest)"
   ]
  },
  {
   "cell_type": "code",
   "execution_count": 13,
   "id": "d2212dc0-4c16-4e7d-b6a8-9cd3a2f0130a",
   "metadata": {},
   "outputs": [
    {
     "data": {
      "text/plain": [
       "(36000, 14)"
      ]
     },
     "execution_count": 13,
     "metadata": {},
     "output_type": "execute_result"
    }
   ],
   "source": [
    "train_data.shape"
   ]
  },
  {
   "cell_type": "code",
   "execution_count": 14,
   "id": "d56aef45-bc05-4ff6-891d-8c438f7957ee",
   "metadata": {},
   "outputs": [
    {
     "data": {
      "text/html": [
       "<div>\n",
       "<style scoped>\n",
       "    .dataframe tbody tr th:only-of-type {\n",
       "        vertical-align: middle;\n",
       "    }\n",
       "\n",
       "    .dataframe tbody tr th {\n",
       "        vertical-align: top;\n",
       "    }\n",
       "\n",
       "    .dataframe thead th {\n",
       "        text-align: right;\n",
       "    }\n",
       "</style>\n",
       "<table border=\"1\" class=\"dataframe\">\n",
       "  <thead>\n",
       "    <tr style=\"text-align: right;\">\n",
       "      <th></th>\n",
       "      <th>person_age</th>\n",
       "      <th>person_gender</th>\n",
       "      <th>person_education</th>\n",
       "      <th>person_income</th>\n",
       "      <th>person_emp_exp</th>\n",
       "      <th>person_home_ownership</th>\n",
       "      <th>loan_amnt</th>\n",
       "      <th>loan_intent</th>\n",
       "      <th>loan_int_rate</th>\n",
       "      <th>loan_percent_income</th>\n",
       "      <th>cb_person_cred_hist_length</th>\n",
       "      <th>credit_score</th>\n",
       "      <th>previous_loan_defaults_on_file</th>\n",
       "      <th>loan_status</th>\n",
       "    </tr>\n",
       "  </thead>\n",
       "  <tbody>\n",
       "    <tr>\n",
       "      <th>6833</th>\n",
       "      <td>23.0</td>\n",
       "      <td>male</td>\n",
       "      <td>Associate</td>\n",
       "      <td>83922.0</td>\n",
       "      <td>2</td>\n",
       "      <td>RENT</td>\n",
       "      <td>6000.0</td>\n",
       "      <td>MEDICAL</td>\n",
       "      <td>7.88</td>\n",
       "      <td>0.07</td>\n",
       "      <td>2.0</td>\n",
       "      <td>624</td>\n",
       "      <td>Yes</td>\n",
       "      <td>0</td>\n",
       "    </tr>\n",
       "    <tr>\n",
       "      <th>5837</th>\n",
       "      <td>23.0</td>\n",
       "      <td>male</td>\n",
       "      <td>Associate</td>\n",
       "      <td>41783.0</td>\n",
       "      <td>2</td>\n",
       "      <td>RENT</td>\n",
       "      <td>5500.0</td>\n",
       "      <td>DEBTCONSOLIDATION</td>\n",
       "      <td>11.01</td>\n",
       "      <td>0.13</td>\n",
       "      <td>3.0</td>\n",
       "      <td>594</td>\n",
       "      <td>Yes</td>\n",
       "      <td>0</td>\n",
       "    </tr>\n",
       "    <tr>\n",
       "      <th>44408</th>\n",
       "      <td>25.0</td>\n",
       "      <td>male</td>\n",
       "      <td>Associate</td>\n",
       "      <td>53788.0</td>\n",
       "      <td>1</td>\n",
       "      <td>RENT</td>\n",
       "      <td>23982.0</td>\n",
       "      <td>DEBTCONSOLIDATION</td>\n",
       "      <td>10.43</td>\n",
       "      <td>0.45</td>\n",
       "      <td>4.0</td>\n",
       "      <td>588</td>\n",
       "      <td>No</td>\n",
       "      <td>1</td>\n",
       "    </tr>\n",
       "    <tr>\n",
       "      <th>18017</th>\n",
       "      <td>28.0</td>\n",
       "      <td>female</td>\n",
       "      <td>Master</td>\n",
       "      <td>241208.0</td>\n",
       "      <td>5</td>\n",
       "      <td>RENT</td>\n",
       "      <td>25000.0</td>\n",
       "      <td>VENTURE</td>\n",
       "      <td>15.33</td>\n",
       "      <td>0.10</td>\n",
       "      <td>7.0</td>\n",
       "      <td>653</td>\n",
       "      <td>Yes</td>\n",
       "      <td>0</td>\n",
       "    </tr>\n",
       "    <tr>\n",
       "      <th>26877</th>\n",
       "      <td>27.0</td>\n",
       "      <td>female</td>\n",
       "      <td>High School</td>\n",
       "      <td>140273.0</td>\n",
       "      <td>6</td>\n",
       "      <td>OWN</td>\n",
       "      <td>6000.0</td>\n",
       "      <td>MEDICAL</td>\n",
       "      <td>7.29</td>\n",
       "      <td>0.04</td>\n",
       "      <td>7.0</td>\n",
       "      <td>547</td>\n",
       "      <td>Yes</td>\n",
       "      <td>0</td>\n",
       "    </tr>\n",
       "  </tbody>\n",
       "</table>\n",
       "</div>"
      ],
      "text/plain": [
       "       person_age person_gender person_education  person_income  \\\n",
       "6833         23.0          male        Associate        83922.0   \n",
       "5837         23.0          male        Associate        41783.0   \n",
       "44408        25.0          male        Associate        53788.0   \n",
       "18017        28.0        female           Master       241208.0   \n",
       "26877        27.0        female      High School       140273.0   \n",
       "\n",
       "       person_emp_exp person_home_ownership  loan_amnt        loan_intent  \\\n",
       "6833                2                  RENT     6000.0            MEDICAL   \n",
       "5837                2                  RENT     5500.0  DEBTCONSOLIDATION   \n",
       "44408               1                  RENT    23982.0  DEBTCONSOLIDATION   \n",
       "18017               5                  RENT    25000.0            VENTURE   \n",
       "26877               6                   OWN     6000.0            MEDICAL   \n",
       "\n",
       "       loan_int_rate  loan_percent_income  cb_person_cred_hist_length  \\\n",
       "6833            7.88                 0.07                         2.0   \n",
       "5837           11.01                 0.13                         3.0   \n",
       "44408          10.43                 0.45                         4.0   \n",
       "18017          15.33                 0.10                         7.0   \n",
       "26877           7.29                 0.04                         7.0   \n",
       "\n",
       "       credit_score previous_loan_defaults_on_file  loan_status  \n",
       "6833            624                            Yes            0  \n",
       "5837            594                            Yes            0  \n",
       "44408           588                             No            1  \n",
       "18017           653                            Yes            0  \n",
       "26877           547                            Yes            0  "
      ]
     },
     "execution_count": 14,
     "metadata": {},
     "output_type": "execute_result"
    }
   ],
   "source": [
    "train_data.head()"
   ]
  },
  {
   "cell_type": "markdown",
   "id": "e291aac0-f406-41fb-a5f6-d22a87b04296",
   "metadata": {},
   "source": [
    "**Pipeline para atributos categóricos**"
   ]
  },
  {
   "cell_type": "code",
   "execution_count": 30,
   "id": "876526a1-1181-4dee-9cb7-a19270a8fa04",
   "metadata": {},
   "outputs": [],
   "source": [
    "from sklearn.preprocessing import OneHotEncoder\n",
    "from sklearn.pipeline import Pipeline\n",
    "from sklearn.impute import SimpleImputer\n",
    "\n",
    "cat_attribs = ['person_gender', 'person_education', 'person_home_ownership', 'loan_intent', 'previous_loan_defaults_on_file']\n",
    "\n",
    "cat_pipeline = Pipeline([\n",
    "    (\"imputer\", SimpleImputer(strategy=\"most_frequent\")),\n",
    "    (\"cat_encoder\", OneHotEncoder(sparse_output=False)) #me recomienda usar sparse_output en vez de sparce porque fue renombrado a este\n",
    "])"
   ]
  },
  {
   "cell_type": "markdown",
   "id": "90c305fb-7aa7-480d-a6c1-fb319e3713e1",
   "metadata": {},
   "source": [
    "**Pipeline para atributos numéricos**"
   ]
  },
  {
   "cell_type": "code",
   "execution_count": 31,
   "id": "3ef6bd5d-041b-4f83-afd5-5da4715e0eb8",
   "metadata": {},
   "outputs": [],
   "source": [
    "from sklearn.pipeline import Pipeline\n",
    "from sklearn.impute import SimpleImputer\n",
    "from sklearn.preprocessing import StandardScaler\n",
    "from sklearn.preprocessing import MinMaxScaler\n",
    "\n",
    "num_attribs = ['person_age', 'person_income', 'person_emp_exp', 'loan_amnt', 'loan_int_rate', 'loan_percent_income', \n",
    "               'cb_person_cred_hist_length', 'credit_score']\n",
    "\n",
    "num_pipeline = Pipeline([\n",
    "    (\"imputer\", SimpleImputer(strategy='median')),\n",
    "    (\"scaler\", StandardScaler()) # puede ser MinMaxScaler()\n",
    "])"
   ]
  },
  {
   "cell_type": "markdown",
   "id": "68d69152-4a11-43c9-ab42-2c81f3b9d29a",
   "metadata": {},
   "source": [
    "**Pipeline completo**"
   ]
  },
  {
   "cell_type": "code",
   "execution_count": 32,
   "id": "bbfc6813-ef1a-41ee-b4c7-435348d5bc5e",
   "metadata": {},
   "outputs": [],
   "source": [
    "from sklearn.compose import ColumnTransformer\n",
    "\n",
    "full_pipeline = ColumnTransformer([\n",
    "    (\"num\", num_pipeline, num_attribs),\n",
    "    (\"cat\", cat_pipeline, cat_attribs),\n",
    "])"
   ]
  },
  {
   "cell_type": "code",
   "execution_count": 33,
   "id": "323e2ef3-abc2-47e5-97d6-1221b84e2668",
   "metadata": {},
   "outputs": [],
   "source": [
    "X_train = full_pipeline.fit_transform(train_data)"
   ]
  },
  {
   "cell_type": "code",
   "execution_count": 34,
   "id": "cb314f54-a1dc-4557-b7f6-567abea1c78f",
   "metadata": {},
   "outputs": [
    {
     "data": {
      "text/plain": [
       "(36000, 27)"
      ]
     },
     "execution_count": 34,
     "metadata": {},
     "output_type": "execute_result"
    }
   ],
   "source": [
    "X_train.shape"
   ]
  },
  {
   "cell_type": "code",
   "execution_count": 35,
   "id": "3cfef660-6bbf-4c8c-94af-4f1fe42e3d16",
   "metadata": {},
   "outputs": [
    {
     "data": {
      "text/plain": [
       "array([-0.78385477,  0.04254   , -0.55794504, -0.56716856, -1.04783058,\n",
       "       -0.8005294 , -0.99558595, -0.17155156,  0.        ,  1.        ,\n",
       "        1.        ,  0.        ,  0.        ,  0.        ,  0.        ,\n",
       "        0.        ,  0.        ,  0.        ,  1.        ,  0.        ,\n",
       "        0.        ,  0.        ,  1.        ,  0.        ,  0.        ,\n",
       "        0.        ,  1.        ])"
      ]
     },
     "execution_count": 35,
     "metadata": {},
     "output_type": "execute_result"
    }
   ],
   "source": [
    "X_train[0,:]"
   ]
  },
  {
   "cell_type": "code",
   "execution_count": 36,
   "id": "7b212d6e-b1a8-42ac-a9de-088915f0b16f",
   "metadata": {},
   "outputs": [
    {
     "data": {
      "text/plain": [
       "6833     0\n",
       "5837     0\n",
       "44408    1\n",
       "18017    0\n",
       "26877    0\n",
       "        ..\n",
       "40220    0\n",
       "2405     0\n",
       "41542    0\n",
       "23513    1\n",
       "34980    0\n",
       "Name: loan_status, Length: 36000, dtype: int64"
      ]
     },
     "execution_count": 36,
     "metadata": {},
     "output_type": "execute_result"
    }
   ],
   "source": [
    "y_train = train_data['loan_status']\n",
    "y_train"
   ]
  },
  {
   "cell_type": "markdown",
   "id": "35c3b44c-17c7-4fee-a1e8-a494ee1fa5c3",
   "metadata": {},
   "source": [
    "**Entrenamiento de las redes neuronales** \\\n",
    "Se construyen 5 modelos variando en la topología de la red, la cantidad de capas ocultas y neuronas por capa oculta."
   ]
  },
  {
   "cell_type": "code",
   "execution_count": 37,
   "id": "4cbb47c7-e8ca-45e0-b3fb-2bc34eae378d",
   "metadata": {},
   "outputs": [],
   "source": [
    "from sklearn.neural_network import MLPClassifier\n",
    "from sklearn.model_selection import cross_val_score"
   ]
  },
  {
   "cell_type": "markdown",
   "id": "20ae6f5c-bff5-40dc-a9a3-01eb42029939",
   "metadata": {},
   "source": [
    "**RED 1**"
   ]
  },
  {
   "cell_type": "code",
   "execution_count": 38,
   "id": "be973624-e589-4764-9e87-6677acb8c7a3",
   "metadata": {},
   "outputs": [
    {
     "name": "stderr",
     "output_type": "stream",
     "text": [
      "/opt/conda/lib/python3.11/site-packages/sklearn/neural_network/_multilayer_perceptron.py:546: ConvergenceWarning: lbfgs failed to converge (status=1):\n",
      "STOP: TOTAL NO. of ITERATIONS REACHED LIMIT.\n",
      "\n",
      "Increase the number of iterations (max_iter) or scale the data as shown in:\n",
      "    https://scikit-learn.org/stable/modules/preprocessing.html\n",
      "  self.n_iter_ = _check_optimize_result(\"lbfgs\", opt_res, self.max_iter)\n",
      "/opt/conda/lib/python3.11/site-packages/sklearn/neural_network/_multilayer_perceptron.py:546: ConvergenceWarning: lbfgs failed to converge (status=1):\n",
      "STOP: TOTAL NO. of ITERATIONS REACHED LIMIT.\n",
      "\n",
      "Increase the number of iterations (max_iter) or scale the data as shown in:\n",
      "    https://scikit-learn.org/stable/modules/preprocessing.html\n",
      "  self.n_iter_ = _check_optimize_result(\"lbfgs\", opt_res, self.max_iter)\n",
      "/opt/conda/lib/python3.11/site-packages/sklearn/neural_network/_multilayer_perceptron.py:546: ConvergenceWarning: lbfgs failed to converge (status=1):\n",
      "STOP: TOTAL NO. of ITERATIONS REACHED LIMIT.\n",
      "\n",
      "Increase the number of iterations (max_iter) or scale the data as shown in:\n",
      "    https://scikit-learn.org/stable/modules/preprocessing.html\n",
      "  self.n_iter_ = _check_optimize_result(\"lbfgs\", opt_res, self.max_iter)\n",
      "/opt/conda/lib/python3.11/site-packages/sklearn/neural_network/_multilayer_perceptron.py:546: ConvergenceWarning: lbfgs failed to converge (status=1):\n",
      "STOP: TOTAL NO. of ITERATIONS REACHED LIMIT.\n",
      "\n",
      "Increase the number of iterations (max_iter) or scale the data as shown in:\n",
      "    https://scikit-learn.org/stable/modules/preprocessing.html\n",
      "  self.n_iter_ = _check_optimize_result(\"lbfgs\", opt_res, self.max_iter)\n",
      "/opt/conda/lib/python3.11/site-packages/sklearn/neural_network/_multilayer_perceptron.py:546: ConvergenceWarning: lbfgs failed to converge (status=1):\n",
      "STOP: TOTAL NO. of ITERATIONS REACHED LIMIT.\n",
      "\n",
      "Increase the number of iterations (max_iter) or scale the data as shown in:\n",
      "    https://scikit-learn.org/stable/modules/preprocessing.html\n",
      "  self.n_iter_ = _check_optimize_result(\"lbfgs\", opt_res, self.max_iter)\n"
     ]
    },
    {
     "name": "stdout",
     "output_type": "stream",
     "text": [
      "[-0.07708333 -0.07777778 -0.08569444 -0.07569444 -0.07888889]\n"
     ]
    },
    {
     "name": "stderr",
     "output_type": "stream",
     "text": [
      "/opt/conda/lib/python3.11/site-packages/sklearn/neural_network/_multilayer_perceptron.py:546: ConvergenceWarning: lbfgs failed to converge (status=1):\n",
      "STOP: TOTAL NO. of ITERATIONS REACHED LIMIT.\n",
      "\n",
      "Increase the number of iterations (max_iter) or scale the data as shown in:\n",
      "    https://scikit-learn.org/stable/modules/preprocessing.html\n",
      "  self.n_iter_ = _check_optimize_result(\"lbfgs\", opt_res, self.max_iter)\n"
     ]
    },
    {
     "data": {
      "text/plain": [
       "-0.07902777777777778"
      ]
     },
     "execution_count": 38,
     "metadata": {},
     "output_type": "execute_result"
    }
   ],
   "source": [
    "modelo1 = MLPClassifier(activation='relu',solver='lbfgs', alpha=1e-5, hidden_layer_sizes=(10,5), random_state=123)\n",
    "modelo1.fit(X_train, y_train)\n",
    "scores1 = cross_val_score(modelo1, X_train, y_train, cv=5, scoring='neg_mean_absolute_error')\n",
    "print(scores1)\n",
    "scores1.mean()"
   ]
  },
  {
   "cell_type": "code",
   "execution_count": 72,
   "id": "7acae364-15d4-431d-8be7-6710685eb045",
   "metadata": {},
   "outputs": [
    {
     "data": {
      "text/plain": [
       "array([[-0.61879989,  0.08338662, -0.72238104, ...,  1.        ,\n",
       "         0.        ,  1.        ],\n",
       "       [-0.28869014, -0.59645925, -0.06463705, ...,  0.        ,\n",
       "         1.        ,  0.        ],\n",
       "       [ 0.86669397, -0.25824072,  0.59310694, ...,  0.        ,\n",
       "         0.        ,  1.        ],\n",
       "       ...,\n",
       "       [ 0.0414196 ,  0.47021629, -0.22907305, ...,  0.        ,\n",
       "         1.        ,  0.        ],\n",
       "       [-0.61879989, -0.0874093 , -0.39350904, ...,  0.        ,\n",
       "         0.        ,  1.        ],\n",
       "       [-0.28869014,  0.43707502, -0.55794504, ...,  1.        ,\n",
       "         0.        ,  1.        ]])"
      ]
     },
     "execution_count": 72,
     "metadata": {},
     "output_type": "execute_result"
    }
   ],
   "source": [
    "X_test=full_pipeline.transform(test_data)\n",
    "X_test"
   ]
  },
  {
   "cell_type": "markdown",
   "id": "1be2053e-9775-4293-89ea-a7bf5b6c36f2",
   "metadata": {},
   "source": [
    "**Usando los modelos**"
   ]
  },
  {
   "cell_type": "code",
   "execution_count": 49,
   "id": "8f05f748-14cd-45f3-8b9b-8066eec56baf",
   "metadata": {},
   "outputs": [
    {
     "data": {
      "text/plain": [
       "array([0, 0, 0, ..., 0, 0, 0])"
      ]
     },
     "execution_count": 49,
     "metadata": {},
     "output_type": "execute_result"
    }
   ],
   "source": [
    "y_pred1=modelo1.predict(X_test)\n",
    "y_pred1"
   ]
  },
  {
   "cell_type": "markdown",
   "id": "8036bfc8-6003-4028-bc25-7c73cd68a9fd",
   "metadata": {},
   "source": [
    "**Metricas**"
   ]
  },
  {
   "cell_type": "code",
   "execution_count": 62,
   "id": "363e920e-8cc9-4665-83ef-6625ad41616b",
   "metadata": {},
   "outputs": [
    {
     "data": {
      "text/plain": [
       "11177    0\n",
       "6790     0\n",
       "21385    0\n",
       "29158    1\n",
       "42556    1\n",
       "        ..\n",
       "9821     0\n",
       "36568    0\n",
       "38732    0\n",
       "35967    0\n",
       "34332    0\n",
       "Name: loan_status, Length: 9000, dtype: int64"
      ]
     },
     "execution_count": 62,
     "metadata": {},
     "output_type": "execute_result"
    }
   ],
   "source": [
    "y_test = test_data['loan_status']\n",
    "y_test"
   ]
  },
  {
   "cell_type": "code",
   "execution_count": 92,
   "id": "89be63a5-5016-430b-a38f-1199dc06737c",
   "metadata": {},
   "outputs": [],
   "source": [
    "from sklearn.metrics import mean_absolute_error, accuracy_score\n",
    "#mean absolute error\n",
    "mae1=mean_absolute_error(\n",
    "    y_true = y_test,\n",
    "    y_pred = y_pred1\n",
    ") \n",
    "\n",
    "\n",
    "#accuracy\n",
    "acc1 = accuracy_score(\n",
    "    y_true = y_test,\n",
    "    y_pred = y_pred1\n",
    ")\n"
   ]
  }
 ],
 "metadata": {
  "kernelspec": {
   "display_name": "Python 3 (ipykernel)",
   "language": "python",
   "name": "python3"
  },
  "language_info": {
   "codemirror_mode": {
    "name": "ipython",
    "version": 3
   },
   "file_extension": ".py",
   "mimetype": "text/x-python",
   "name": "python",
   "nbconvert_exporter": "python",
   "pygments_lexer": "ipython3",
   "version": "3.11.6"
  }
 },
 "nbformat": 4,
 "nbformat_minor": 5
}
